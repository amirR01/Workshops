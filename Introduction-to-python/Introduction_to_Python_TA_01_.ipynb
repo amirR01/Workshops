{
  "cells": [
    {
      "cell_type": "markdown",
      "id": "77e6e4ba",
      "metadata": {
        "id": "77e6e4ba"
      },
      "source": [
        "# Section 1\n",
        "## Strings"
      ]
    },
    {
      "cell_type": "markdown",
      "id": "c6c4c8b1",
      "metadata": {
        "id": "c6c4c8b1"
      },
      "source": [
        "*   Defining a string in python + dir\n",
        "*   concatenation + zip + enumerate + repeat"
      ]
    },
    {
      "cell_type": "markdown",
      "id": "tZ84yyv03ZUc",
      "metadata": {
        "id": "tZ84yyv03ZUc"
      },
      "source": [
        "A String can be created simply using the code below."
      ]
    },
    {
      "cell_type": "code",
      "execution_count": null,
      "id": "nW64qvYc23qV",
      "metadata": {
        "id": "nW64qvYc23qV"
      },
      "outputs": [],
      "source": [
        "myStr = 'this is a string in python'"
      ]
    },
    {
      "cell_type": "markdown",
      "id": "iHO8XWr13gnx",
      "metadata": {
        "id": "iHO8XWr13gnx"
      },
      "source": [
        "a string, in intrinsincly an array of characters; hence, you may access each character in a string using the same syntax for lists..."
      ]
    },
    {
      "cell_type": "code",
      "execution_count": null,
      "id": "rPd4NoFJ3yEM",
      "metadata": {
        "colab": {
          "base_uri": "https://localhost:8080/"
        },
        "id": "rPd4NoFJ3yEM",
        "outputId": "cfb7cb37-2967-4344-96ce-d819d22b8b26"
      },
      "outputs": [
        {
          "name": "stdout",
          "output_type": "stream",
          "text": [
            "s\n"
          ]
        }
      ],
      "source": [
        "myChar = myStr[3]\n",
        "print(myChar)"
      ]
    },
    {
      "cell_type": "markdown",
      "id": "yF9DaTPYGqQ6",
      "metadata": {
        "id": "yF9DaTPYGqQ6"
      },
      "source": [
        "There is literally infinite potentiall in python for carrying out tasks using strings! as a example, strings can be concatenated together, looped over, repeated to created bigger strings and ..."
      ]
    },
    {
      "cell_type": "code",
      "execution_count": null,
      "id": "8gTqd8w6G6Lz",
      "metadata": {
        "colab": {
          "base_uri": "https://localhost:8080/"
        },
        "id": "8gTqd8w6G6Lz",
        "outputId": "3baf1a0c-91e7-4205-cee2-7b0e58f63234"
      },
      "outputs": [
        {
          "name": "stdout",
          "output_type": "stream",
          "text": [
            "Hello World!\n",
            "Hello World!!!!!!\n",
            "Hello\n",
            "HloW\n"
          ]
        }
      ],
      "source": [
        "string1 = \"Hello\"\n",
        "string2 = \" World!\"\n",
        "string3 = string1 + string2\n",
        "\n",
        "print(string3)\n",
        "\n",
        "string4 = string3 + 5 * string3[-1]\n",
        "\n",
        "#positive indexing : 0, 1, 2, ... \n",
        "#negative indexing : -1, -2, -3, ...\n",
        "\n",
        "print(string4)\n",
        "\n",
        "#slicing\n",
        "\n",
        "string5 = string4[0:5]\n",
        "\n",
        "print(string5)\n",
        "\n",
        "#slicing : [startIndex: endIndex: stepSize]\n",
        "string6 = string4[0:8:2]\n",
        "\n",
        "print(string6)\n",
        "\n",
        "#stepSize can be negative"
      ]
    },
    {
      "cell_type": "markdown",
      "id": "90tYJwo0UFx9",
      "metadata": {
        "id": "90tYJwo0UFx9"
      },
      "source": [
        "**A Case Study: Vigenere Cypher**"
      ]
    },
    {
      "cell_type": "code",
      "execution_count": null,
      "id": "fCunK_qTHsuB",
      "metadata": {
        "colab": {
          "base_uri": "https://localhost:8080/"
        },
        "id": "fCunK_qTHsuB",
        "outputId": "30e31fd9-8681-43b3-b1e1-b137b3562fb1"
      },
      "outputs": [
        {
          "name": "stdout",
          "output_type": "stream",
          "text": [
            "B\n",
            "66\n",
            "AILMFPQIVRRHMMHMKRD\n",
            "HITTHEMWHEREITHURTS\n"
          ]
        }
      ],
      "source": [
        "message = \"HITTHEMWHEREITHURTS\"\n",
        "key = \"TASTYLEMONADETASTYL\"\n",
        "\n",
        "#message: A, Key: B -> A + B = B / 0 + 1 = 1\n",
        "#message: V, Key: Z -> V + Z / 21 + 25 = 46 -> 46 % 26 = 20 -> U\n",
        "\n",
        "#chr() : int -> char\n",
        "\n",
        "print(chr(66))\n",
        "\n",
        "#ord() : char -> int\n",
        "\n",
        "print(ord('B'))\n",
        "\n",
        "# '\\\\ , : \\n'\n",
        "\n",
        "newMessage = \"\"\n",
        "for i,j in zip(key, message):\n",
        "  tempNum = (ord(i) + ord(j) - 130)%26\n",
        "  newMessage += chr(ord('A') + tempNum)\n",
        "\n",
        "# for i in range(len(message)):\n",
        "#   tempNum = (ord(message[i]) + ord(key[i]) - 130)%26\n",
        "\n",
        "# A+= B -> A = A + B\n",
        "\n",
        "print(newMessage)\n",
        "\n",
        "oldMessage = \"\"\n",
        "for i,j in zip(key, newMessage):\n",
        "  temp = (-ord(i) + ord(j) + 26 - 130)%26\n",
        "  oldMessage += chr(65 + temp)\n",
        "\n",
        "# A, B -> C, D : C = ord(A), D = ord(B) \n",
        "# D - C : F\n",
        "# if D - C < 0 : -> +26 % 26\n",
        "# A + B + 26 ~ A + B \n",
        "\n",
        "# function : name(**args)\n",
        "\n",
        "print(oldMessage)"
      ]
    },
    {
      "cell_type": "code",
      "execution_count": null,
      "id": "UiXZcBa258sl",
      "metadata": {
        "colab": {
          "base_uri": "https://localhost:8080/"
        },
        "id": "UiXZcBa258sl",
        "outputId": "7d7f6f4c-a606-41e7-ac41-99d1857cbf2f"
      },
      "outputs": [
        {
          "name": "stdout",
          "output_type": "stream",
          "text": [
            "Help on method_descriptor:\n",
            "\n",
            "index(...)\n",
            "    S.index(sub[, start[, end]]) -> int\n",
            "    \n",
            "    Return the lowest index in S where substring sub is found,\n",
            "    such that sub is contained within S[start:end].  Optional\n",
            "    arguments start and end are interpreted as in slice notation.\n",
            "    \n",
            "    Raises ValueError when the substring is not found.\n",
            "\n"
          ]
        }
      ],
      "source": [
        "help(str.index)\n",
        "\n",
        "#dir \n",
        "\n",
        "#help"
      ]
    },
    {
      "cell_type": "markdown",
      "id": "q5S01uDR4Lj8",
      "metadata": {
        "id": "q5S01uDR4Lj8"
      },
      "source": [
        "Python, includes many useful methods related to string for easier coding. among such methods, we shall mention:\n",
        "\n",
        "\n",
        "\n",
        "*   capitalize\n",
        "*   lower/upper\n",
        "*   count\n",
        "*   endswith\n",
        "*   find\n",
        "*   index\n",
        "*   isalpha/isdigit\n",
        "*   isupper/islower\n",
        "*   replace\n",
        "*   split\n"
      ]
    },
    {
      "cell_type": "code",
      "execution_count": null,
      "id": "uFKxMtsZFK6V",
      "metadata": {
        "colab": {
          "base_uri": "https://localhost:8080/"
        },
        "id": "uFKxMtsZFK6V",
        "outputId": "1f6cf4b1-af70-4e91-912c-6d5f50cb559d"
      },
      "outputs": [
        {
          "name": "stdout",
          "output_type": "stream",
          "text": [
            "This is a string in python\n",
            "THIS IS A STRING IN PYTHON\n",
            "this is a string in python\n",
            "1\n",
            "False\n",
            "10\n",
            "6\n",
            "False\n",
            "True\n",
            "thin in a string in python\n",
            "thFs Fs a strFng Fn python\n",
            "['thi', ' i', ' a string in python']\n"
          ]
        }
      ],
      "source": [
        "#endswith != [-1]\n",
        "\n",
        "print(myStr.capitalize())\n",
        "\n",
        "# myStr = myStr.upper()\n",
        "\n",
        "print(myStr.upper())\n",
        "\n",
        "print(myStr)\n",
        "\n",
        "print(myStr.count('in p')) # str.count(subStr, startIndex, endIndex)\n",
        "\n",
        "print(myStr.endswith('thhon'))\n",
        "\n",
        "print(myStr.find('string')) # str.find(subStr, startIndex, endIndex)\n",
        "\n",
        "print(myStr.index('s',4)) # str.index(subStr, startIndex, endIndex)\n",
        "\n",
        "print(myStr.isdigit())\n",
        "\n",
        "print(myStr[3].islower())\n",
        "\n",
        "print(myStr.replace('is', 'in'))\n",
        "\n",
        "print(myStr.replace('i', 'F', 5)) #str.replace(old, new, occurrenceNumber)\n",
        "\n",
        "print(myStr.split('s', 2)) #str.split(delimiter, maxOccurrence)"
      ]
    },
    {
      "cell_type": "markdown",
      "id": "4a6d1d37",
      "metadata": {
        "id": "4a6d1d37"
      },
      "source": [
        "**Questions:**\n",
        "\n",
        "*    polyndrome strings"
      ]
    },
    {
      "cell_type": "code",
      "execution_count": null,
      "id": "LTddnf9PyNar",
      "metadata": {
        "colab": {
          "base_uri": "https://localhost:8080/"
        },
        "id": "LTddnf9PyNar",
        "outputId": "66a7afc5-8186-4451-8b7a-504fb2e19084"
      },
      "outputs": [
        {
          "name": "stdout",
          "output_type": "stream",
          "text": [
            "ababbbabbababacddc\n",
            "4\n"
          ]
        }
      ],
      "source": [
        "stop_repeating_dict={}\n",
        "def isPalindrome(l):\n",
        "    if (l == l[::-1]):\n",
        "        return True \n",
        "    return False\n",
        "\n",
        "def countCuts(s):\n",
        "    if(s in stop_repeating_dict):\n",
        "        return stop_repeating_dict[s]\n",
        "    if(isPalindrome(s)):\n",
        "        return 0\n",
        "        \n",
        "    cutCount = 10000\n",
        "    for i in range (1,len(s)):\n",
        "        c = 1 + countCuts(s[:i]) + countCuts(s[i:])\n",
        "        if(c<cutCount):\n",
        "            cutCount = c\n",
        "        if(c==1):\n",
        "            break\n",
        "    stop_repeating_dict[s]=cutCount\n",
        "    return cutCount\n",
        "\n",
        "print(countCuts(input()))"
      ]
    },
    {
      "cell_type": "markdown",
      "id": "zAnkjidXqIaS",
      "metadata": {
        "id": "zAnkjidXqIaS"
      },
      "source": [
        "TestCase: \n",
        "\n",
        "ababbbabbababacddc"
      ]
    },
    {
      "cell_type": "markdown",
      "id": "803842c4",
      "metadata": {
        "id": "803842c4"
      },
      "source": [
        "\n",
        "# Section 2\n",
        "## Lists & Dictionary"
      ]
    },
    {
      "cell_type": "markdown",
      "id": "ab571b22",
      "metadata": {
        "id": "ab571b22"
      },
      "source": [
        "Defining a list"
      ]
    },
    {
      "cell_type": "code",
      "execution_count": null,
      "id": "06b80198",
      "metadata": {
        "colab": {
          "base_uri": "https://localhost:8080/"
        },
        "id": "06b80198",
        "outputId": "3a708432-6b9b-45f1-f7ab-ccde4129b1b5"
      },
      "outputs": [
        {
          "output_type": "stream",
          "name": "stdout",
          "text": [
            "[10, 20, 30]\n",
            "[]\n"
          ]
        }
      ],
      "source": [
        "l2 = list()  #create\n",
        "a = [10, 20, 30]   #create\n",
        "print(a)\n",
        "print(l2)"
      ]
    },
    {
      "cell_type": "code",
      "execution_count": null,
      "id": "cfabea4d",
      "metadata": {
        "colab": {
          "base_uri": "https://localhost:8080/"
        },
        "id": "cfabea4d",
        "outputId": "63daaff9-538f-42f3-8949-9fc01cb17b0f"
      },
      "outputs": [
        {
          "output_type": "stream",
          "name": "stdout",
          "text": [
            "[10, 20, 30, 10, 20, 30, 10, 20, 30, 10, 20, 30, 10, 20, 30, 10, 20, 30, 10, 20, 30, 10, 20, 30, 10, 20, 30, 10, 20, 30]\n"
          ]
        }
      ],
      "source": [
        "b = a * 10\n",
        "c = [0] * 20\n",
        "print(b)\n",
        "# what if we  wanted to create [100,200,300] from [10,20,30]"
      ]
    },
    {
      "cell_type": "code",
      "execution_count": null,
      "id": "2954ad27",
      "metadata": {
        "colab": {
          "base_uri": "https://localhost:8080/"
        },
        "id": "2954ad27",
        "outputId": "4be1e450-30f7-49f1-deea-bf3ebaefd39a"
      },
      "outputs": [
        {
          "output_type": "stream",
          "name": "stdout",
          "text": [
            "1\n",
            "2\n",
            "6\n",
            "6\n",
            "5\n",
            "1\n",
            "[2, 3, 4]\n",
            "[1, 2, 3, 4]\n",
            "[2, 3, 4, 5, 6]\n",
            "[5, 6]\n",
            "[2, 4, 6]\n",
            "[5, 4, 3, 2]\n",
            "[6, 4, 2]\n"
          ]
        }
      ],
      "source": [
        "l = [1, 2, 3, 4, 5, 6]      # lists are zero-indexed in python.\n",
        "\n",
        "print(l[0])                 # You can access to the elements with indices 0, 1, ..., n - 1\n",
        "print(l[1])                 \n",
        "print(l[5])\n",
        "\n",
        "print(l[-1])                # you can use negative index to access the elements from the end.\n",
        "print(l[-2])                # if you have a list with n elements, index [-a] is equal to [n - a] (0 <= a < n)\n",
        "print(l[-6])\n",
        "\n",
        "print(l[1:4])               # [a:b] means from index a to b (a inclusive, b exclusive)\n",
        "print(l[:4])                # [:b] means from the beginning to index b (b exclusive)\n",
        "print(l[1:])                # [a:] means from index a to the end (a inclusive)\n",
        "print(l[-2:])              \n",
        "\n",
        "print(l[1::2])              # [a:b:c] means from index a to b with step c\n",
        "print(l[4:0:-1])            # you can use negative step\n",
        "\n",
        "print(l[::-2])              # how to reverse the list?"
      ]
    },
    {
      "cell_type": "code",
      "execution_count": null,
      "id": "c5216244",
      "metadata": {
        "colab": {
          "base_uri": "https://localhost:8080/"
        },
        "id": "c5216244",
        "outputId": "cd89438d-fa15-4b62-beff-725be8c8c6ff"
      },
      "outputs": [
        {
          "output_type": "stream",
          "name": "stdout",
          "text": [
            "[1, 2, 3, 4]\n"
          ]
        }
      ],
      "source": [
        "# assignment\n",
        "l1 = [1, 2, 10, 4]\n",
        "\n",
        "l1[2] = 3                   # assign 3 to third-element of the list.\n",
        "\n",
        "print(l1)"
      ]
    },
    {
      "cell_type": "markdown",
      "id": "527c51c2",
      "metadata": {
        "id": "527c51c2"
      },
      "source": [
        "methods for list"
      ]
    },
    {
      "cell_type": "code",
      "execution_count": null,
      "id": "11764174",
      "metadata": {
        "colab": {
          "base_uri": "https://localhost:8080/"
        },
        "id": "11764174",
        "outputId": "65b97bfc-510b-404d-db26-bd722fd7dbf4"
      },
      "outputs": [
        {
          "output_type": "stream",
          "name": "stdout",
          "text": [
            "[1, 2, 3, 4, '3', 4, [1, 2]]\n"
          ]
        }
      ],
      "source": [
        "#append\n",
        "a = [1, 2, 3, 4]\n",
        "a.append(\"3\")\n",
        "a.append(4)\n",
        "a.append([1,2])\n",
        "print(a)"
      ]
    },
    {
      "cell_type": "code",
      "execution_count": null,
      "id": "461a19f8",
      "metadata": {
        "colab": {
          "base_uri": "https://localhost:8080/"
        },
        "id": "461a19f8",
        "outputId": "c3ec8664-f6be-4047-e4a1-b4c04530d15a"
      },
      "outputs": [
        {
          "output_type": "stream",
          "name": "stdout",
          "text": [
            "[4, 7, 10, 23, 56, 89]\n",
            "[89, 56, 23, 10, 7, 4]\n"
          ]
        }
      ],
      "source": [
        "# sort()\n",
        "a = [10, 23, 4, 56, 7, 89]\n",
        "a.sort()\n",
        "print(a)\n",
        "a.sort(reverse=True)\n",
        "print(a)"
      ]
    },
    {
      "cell_type": "code",
      "execution_count": null,
      "id": "4d1c9185",
      "metadata": {
        "colab": {
          "base_uri": "https://localhost:8080/"
        },
        "id": "4d1c9185",
        "outputId": "35f7cbc1-b774-4b06-9380-5e413365ef89"
      },
      "outputs": [
        {
          "output_type": "stream",
          "name": "stdout",
          "text": [
            "3\n"
          ]
        }
      ],
      "source": [
        "# count()\n",
        "a = [1, 2, 1, 3, 5, 1]\n",
        "print(a.count(1))"
      ]
    },
    {
      "cell_type": "code",
      "execution_count": null,
      "id": "e57a92ae",
      "metadata": {
        "colab": {
          "base_uri": "https://localhost:8080/"
        },
        "id": "e57a92ae",
        "outputId": "38b1b7b2-2822-43ba-8375-9e2ae8bc4347"
      },
      "outputs": [
        {
          "output_type": "stream",
          "name": "stdout",
          "text": [
            "15\n"
          ]
        }
      ],
      "source": [
        "# sum\n",
        "a = [1, 2, 3, 4, 5]\n",
        "print(sum(a))"
      ]
    },
    {
      "cell_type": "code",
      "execution_count": null,
      "id": "af609c3c",
      "metadata": {
        "colab": {
          "base_uri": "https://localhost:8080/"
        },
        "id": "af609c3c",
        "outputId": "1b5be785-afdb-4df4-fb80-1d145ef60e24"
      },
      "outputs": [
        {
          "output_type": "stream",
          "name": "stdout",
          "text": [
            "[1, 2, 3, 4, 5]\n",
            "[1, 2, 3, 4]\n",
            "[2, 3, 4]\n"
          ]
        }
      ],
      "source": [
        "# pop\n",
        "stack = [1, 2, 3]\n",
        "stack.append(4)\n",
        "stack.append(5)\n",
        "print(stack)\n",
        "stack.pop()\n",
        "print(stack)\n",
        "stack.pop(0)\n",
        "print(stack)"
      ]
    },
    {
      "cell_type": "code",
      "execution_count": null,
      "id": "bae49a01",
      "metadata": {
        "id": "bae49a01",
        "outputId": "b2704945-aa1e-4e46-fb34-4b912000955a"
      },
      "outputs": [
        {
          "name": "stdout",
          "output_type": "stream",
          "text": [
            "[1, 4, 2, 3]\n"
          ]
        }
      ],
      "source": [
        "# insert \n",
        "l = [1, 2, 3]\n",
        "l.insert(1, 4)\n",
        "print(l)"
      ]
    },
    {
      "cell_type": "code",
      "execution_count": null,
      "id": "c0f666fd",
      "metadata": {
        "colab": {
          "base_uri": "https://localhost:8080/"
        },
        "id": "c0f666fd",
        "outputId": "3a8790de-e638-43d8-ee10-93463d5c1f6e"
      },
      "outputs": [
        {
          "output_type": "stream",
          "name": "stdout",
          "text": [
            "[1, 3, 5, 8]\n"
          ]
        }
      ],
      "source": [
        "# inverse \n",
        "l = [1, 8 , 5 , 3]\n",
        "l2 = l.sort()\n",
        "l2 = sorted(l)\n",
        "print(l2)\n",
        "# sorted() reversed()"
      ]
    },
    {
      "cell_type": "code",
      "execution_count": null,
      "id": "e7d05364",
      "metadata": {
        "colab": {
          "base_uri": "https://localhost:8080/"
        },
        "id": "e7d05364",
        "outputId": "6fa555cb-a6cd-4b20-8d5c-1d75f3aa6973"
      },
      "outputs": [
        {
          "output_type": "stream",
          "name": "stdout",
          "text": [
            "[1, 2, 3, 2, 5, 6]\n",
            "[1, 2, 3, 2, 5, 6]\n"
          ]
        }
      ],
      "source": [
        "# extend\n",
        "l1 = [1, 2, 3]\n",
        "l2 = [2, 5, 6]\n",
        "\n",
        "l1.extend(l2)               # extend: add all elements of a list to another list.\n",
        "print(l1)\n",
        "\n",
        "l1 = [1, 2, 3]\n",
        "l2 = [2, 5, 6]\n",
        "\n",
        "l3 = l1 + l2\n",
        "print(l3)"
      ]
    },
    {
      "cell_type": "code",
      "execution_count": null,
      "id": "e6e7db45",
      "metadata": {
        "colab": {
          "base_uri": "https://localhost:8080/"
        },
        "id": "e6e7db45",
        "outputId": "3c42860b-4f6b-47c5-8f64-3b83cc9cbda7"
      },
      "outputs": [
        {
          "output_type": "stream",
          "name": "stdout",
          "text": [
            "[1, 1, 2, 1, 2]\n"
          ]
        }
      ],
      "source": [
        "# remove\n",
        "l1 = [1, 2, 1, 2, 1, 2]\n",
        "\n",
        "l1.remove(2)                # remove: remove first element thats equal to the entry.\n",
        "\n",
        "print(l1)"
      ]
    },
    {
      "cell_type": "code",
      "execution_count": null,
      "id": "3332c322",
      "metadata": {
        "colab": {
          "base_uri": "https://localhost:8080/"
        },
        "id": "3332c322",
        "outputId": "8c8dc18e-11e1-42ba-8c00-cf1bc3a82c7d"
      },
      "outputs": [
        {
          "output_type": "stream",
          "name": "stdout",
          "text": [
            "1\n"
          ]
        }
      ],
      "source": [
        "# index\n",
        "l1 = [1, 3, 5, 3, 3, 3, 3]\n",
        "\n",
        "i = l1.index(3)             # index: find index of first element thats equal to the entry.\n",
        "\n",
        "print(i)"
      ]
    },
    {
      "cell_type": "code",
      "execution_count": null,
      "id": "324072c7",
      "metadata": {
        "colab": {
          "base_uri": "https://localhost:8080/"
        },
        "id": "324072c7",
        "outputId": "a9e6adaf-9d77-463e-e6b8-7fc5242144c4"
      },
      "outputs": [
        {
          "output_type": "stream",
          "name": "stdout",
          "text": [
            "True\n",
            "True\n",
            "True\n"
          ]
        }
      ],
      "source": [
        "# in\n",
        "l = [1, 2, 3]\n",
        "\n",
        "print(1 in l)\n",
        "print(not 4 in l)\n",
        "print(4 not in l)"
      ]
    },
    {
      "cell_type": "markdown",
      "id": "81b60c90",
      "metadata": {
        "id": "81b60c90"
      },
      "source": [
        "call by reference/value"
      ]
    },
    {
      "cell_type": "code",
      "execution_count": null,
      "id": "a66587a9",
      "metadata": {
        "colab": {
          "base_uri": "https://localhost:8080/"
        },
        "id": "a66587a9",
        "outputId": "3f423e31-eaa9-46ad-d604-bb745f7e3c74"
      },
      "outputs": [
        {
          "output_type": "stream",
          "name": "stdout",
          "text": [
            "[1, 2, 3, 4]\n",
            "[1, 2, 3, 4]\n"
          ]
        }
      ],
      "source": [
        "l1 = list(range(1, 4))  # l1 = [1, 2, 3]\n",
        "l2 = l1\n",
        "\n",
        "l2.append(4)  # l2 = [1, 2, 3, 4]\n",
        "\n",
        "print(l2)\n",
        "print(l1)\n",
        "\n",
        "# how to fix this?"
      ]
    },
    {
      "cell_type": "code",
      "execution_count": null,
      "id": "c781fc84",
      "metadata": {
        "colab": {
          "base_uri": "https://localhost:8080/"
        },
        "id": "c781fc84",
        "outputId": "55c83132-be36-4751-a656-743573df26f1"
      },
      "outputs": [
        {
          "output_type": "stream",
          "name": "stdout",
          "text": [
            "[1, 2, 3, 5]\n",
            "[1, 2, 3, 4]\n",
            "[1, 2, 3]\n"
          ]
        }
      ],
      "source": [
        "l1 = list(range(1, 4))  # l1 = [1, 2, 3]\n",
        "l2 = l1[:]\n",
        "l3 = l1.copy()\n",
        "l2.append(4)  # l2 = [1, 2, 3, 4]\n",
        "l3.append(5)  # l3 = [1, 2, 3, 5]\n",
        "print(l3)\n",
        "print(l2)\n",
        "print(l1)\n",
        "\n",
        "# is copy enough?"
      ]
    },
    {
      "cell_type": "markdown",
      "id": "ea2c23e2",
      "metadata": {
        "id": "ea2c23e2"
      },
      "source": [
        "list of dimensions more than 1"
      ]
    },
    {
      "cell_type": "code",
      "execution_count": null,
      "id": "941115b9",
      "metadata": {
        "colab": {
          "base_uri": "https://localhost:8080/"
        },
        "id": "941115b9",
        "outputId": "3e193530-ccd6-4e14-c56e-30b7ba2cbe94"
      },
      "outputs": [
        {
          "output_type": "stream",
          "name": "stdout",
          "text": [
            "[[5, 2], [3, 4]]\n",
            "[5, 2]\n"
          ]
        }
      ],
      "source": [
        "l = [[1, 2], [3, 4]]\n",
        "l[0][0] = 5\n",
        "print(l)\n",
        "print(l[0])"
      ]
    },
    {
      "cell_type": "code",
      "execution_count": null,
      "id": "a690b528",
      "metadata": {
        "colab": {
          "base_uri": "https://localhost:8080/"
        },
        "id": "a690b528",
        "outputId": "8e00928f-141b-4808-db22-199a16f0f625"
      },
      "outputs": [
        {
          "output_type": "stream",
          "name": "stdout",
          "text": [
            "[[5, 2], [3, 4]]\n"
          ]
        }
      ],
      "source": [
        "l = [[1, 2], [3, 4]]\n",
        "l2 = l.copy()\n",
        "x = l2[0]\n",
        "x[0]= 5\n",
        "print(l)\n"
      ]
    },
    {
      "cell_type": "markdown",
      "id": "994d7a2e",
      "metadata": {
        "id": "994d7a2e"
      },
      "source": [
        "list comprehension"
      ]
    },
    {
      "cell_type": "code",
      "execution_count": null,
      "id": "01210583",
      "metadata": {
        "colab": {
          "base_uri": "https://localhost:8080/"
        },
        "id": "01210583",
        "outputId": "073be3dc-b235-4309-c4f9-16cf17cad662"
      },
      "outputs": [
        {
          "output_type": "stream",
          "name": "stdout",
          "text": [
            "[0, 1, 2, 3, 4, 5, 6, 7, 8, 9]\n"
          ]
        }
      ],
      "source": [
        "l = []\n",
        "for i in range(10):\n",
        "    l.append(i)\n",
        "print(l)"
      ]
    },
    {
      "cell_type": "code",
      "execution_count": null,
      "id": "69d0d3f1",
      "metadata": {
        "colab": {
          "base_uri": "https://localhost:8080/"
        },
        "id": "69d0d3f1",
        "outputId": "e0de7b0b-2375-4029-c2de-f12023eb4154"
      },
      "outputs": [
        {
          "output_type": "stream",
          "name": "stdout",
          "text": [
            "[0, 2, 4, 6, 8, 10, 12, 14, 16, 18]\n",
            "[0, 4, 8, 12, 16, 20, 24, 28, 32, 36]\n",
            "[0, 3, 6, 9]\n",
            "[[1, 2, 3, 4], [1, 4, 9, 16], [1, 8, 27, 64], [1, 16, 81, 256]]\n"
          ]
        }
      ],
      "source": [
        "l = [i * 2 for i in range(10)]\n",
        "print(l)\n",
        "\n",
        "l2 = [i * 2 for i in l]\n",
        "print(l2)\n",
        "\n",
        "l = [j for j in range(10) if j % 3 == 0]\n",
        "print(l)\n",
        "\n",
        "l2 =[[i ** j for i in range(1, 5)] for j in range(1, 5)]\n",
        "print(l2)"
      ]
    },
    {
      "cell_type": "markdown",
      "id": "a4bf76ad",
      "metadata": {
        "id": "a4bf76ad"
      },
      "source": [
        "tuple & set & range"
      ]
    },
    {
      "cell_type": "code",
      "execution_count": null,
      "id": "339c85d3",
      "metadata": {
        "colab": {
          "base_uri": "https://localhost:8080/"
        },
        "id": "339c85d3",
        "outputId": "83c76f4c-5716-4ba2-d259-7fd389e9b4a7"
      },
      "outputs": [
        {
          "output_type": "stream",
          "name": "stdout",
          "text": [
            "1\n",
            "1 2 3\n",
            "1 2 [3, 4]\n",
            "1 [2, 3] 4\n"
          ]
        }
      ],
      "source": [
        "s = (1, 2, 3)                   # Tuple!\n",
        "print(s[0])\n",
        "#s[0] = 2                      # error! Tuples are IMMUTABLE!\n",
        "\n",
        "a, b, c = (1, 2, 3)             # Unpacking\n",
        "print(a, b, c)\n",
        "\n",
        "a, b, *c = (1, 2, 3, 4)\n",
        "print(a, b, c)\n",
        "\n",
        "a, *b, c = (1, 2, 3, 4)\n",
        "print(a, b, c)\n"
      ]
    },
    {
      "cell_type": "code",
      "execution_count": null,
      "id": "a5b7418c",
      "metadata": {
        "colab": {
          "base_uri": "https://localhost:8080/"
        },
        "id": "a5b7418c",
        "outputId": "816bc860-913f-4b66-873a-85bb6de19b93"
      },
      "outputs": [
        {
          "output_type": "stream",
          "name": "stdout",
          "text": [
            "{1, 2, 3, 4, 6, 'a'}\n"
          ]
        }
      ],
      "source": [
        "\n",
        "sgt = [2, 3, 1]\n",
        "st = set(sgt)\n",
        "st.add(\"a\")\n",
        "st.add(\"a\")\n",
        "st.add(4)\n",
        "st.add(6)\n",
        "st.add(4)\n",
        "\n",
        "print(st)\n",
        "\n",
        "# set vs list"
      ]
    },
    {
      "cell_type": "markdown",
      "id": "fdd2f847",
      "metadata": {
        "id": "fdd2f847"
      },
      "source": [
        "dictionary"
      ]
    },
    {
      "cell_type": "code",
      "execution_count": null,
      "id": "ca39544d",
      "metadata": {
        "colab": {
          "base_uri": "https://localhost:8080/"
        },
        "id": "ca39544d",
        "outputId": "f20d29b1-fcbc-4c75-c9dc-70348950a72e"
      },
      "outputs": [
        {
          "output_type": "stream",
          "name": "stdout",
          "text": [
            "{'amir': 10, 'mehrshad': 20}\n"
          ]
        }
      ],
      "source": [
        "dict = {\n",
        "    \"amir\": 10,\n",
        "    \"mehrshad\": 20,\n",
        "}\n",
        "print(dict)"
      ]
    },
    {
      "cell_type": "code",
      "execution_count": null,
      "id": "867e206b",
      "metadata": {
        "colab": {
          "base_uri": "https://localhost:8080/"
        },
        "id": "867e206b",
        "outputId": "d034f486-60d7-4df4-f2c3-96c1e20e1f4c"
      },
      "outputs": [
        {
          "output_type": "stream",
          "name": "stdout",
          "text": [
            "1\n",
            "4\n",
            "3\n",
            "2\n"
          ]
        }
      ],
      "source": [
        "d1 = {\"amir\": 1, 10: 2, 1.3: 3, (1, 2, 4): 4}\n",
        "\n",
        "print(d1[\"amir\"])\n",
        "print(d1[(1, 2, 4)])\n",
        "print(d1[1.3])\n",
        "print(d1[10])"
      ]
    },
    {
      "cell_type": "code",
      "execution_count": null,
      "id": "10ef9a2f",
      "metadata": {
        "colab": {
          "base_uri": "https://localhost:8080/"
        },
        "id": "10ef9a2f",
        "outputId": "74dfa203-0ae0-4b48-931e-f14f73f10e4b"
      },
      "outputs": [
        {
          "output_type": "stream",
          "name": "stdout",
          "text": [
            "{98100000: 19}\n",
            "19\n"
          ]
        }
      ],
      "source": [
        "d1 = {}\n",
        "\n",
        "d1[98100000] = 20  # add to dictionary\n",
        "d1[98100000] = 19\n",
        "print(d1)\n",
        "\n",
        "print(d1[98100000])  # get value by key"
      ]
    },
    {
      "cell_type": "code",
      "execution_count": null,
      "id": "b2972069",
      "metadata": {
        "colab": {
          "base_uri": "https://localhost:8080/"
        },
        "id": "b2972069",
        "outputId": "ab5e36dd-bea4-48b5-f54a-dc32dc4c72f1"
      },
      "outputs": [
        {
          "output_type": "stream",
          "name": "stdout",
          "text": [
            "{'a': 19, 'c': 30}\n"
          ]
        }
      ],
      "source": [
        "d1 = {\"a\": 19, \"b\": 20, \"c\": 30}\n",
        "\n",
        "d1.pop(\"b\")\n",
        "\n",
        "print(d1)"
      ]
    },
    {
      "cell_type": "code",
      "execution_count": null,
      "id": "874f0cf5",
      "metadata": {
        "colab": {
          "base_uri": "https://localhost:8080/"
        },
        "id": "874f0cf5",
        "outputId": "ea299d5f-399f-44bd-a472-043b5c380a3f"
      },
      "outputs": [
        {
          "output_type": "stream",
          "name": "stdout",
          "text": [
            "{'a': 19}\n"
          ]
        }
      ],
      "source": [
        "del d1[\"c\"]\n",
        "print(d1)"
      ]
    },
    {
      "cell_type": "code",
      "execution_count": null,
      "id": "0c716dc8",
      "metadata": {
        "id": "0c716dc8"
      },
      "outputs": [],
      "source": [
        "list(d1.items())"
      ]
    },
    {
      "cell_type": "code",
      "execution_count": null,
      "id": "bd840922",
      "metadata": {
        "id": "bd840922"
      },
      "outputs": [],
      "source": [
        "d = {\"a\": 1, \"b\": 2, \"c\": 3, \"d\": 4, \"e\": 5, \"f\": 6, \"g\": 7, \"h\": 8}\n",
        "\n",
        "print(\"a\" in d)\n",
        "print(\"a\" in d.keys())  # equivalent to above\n",
        "\n",
        "print(3 in d.values())"
      ]
    },
    {
      "cell_type": "code",
      "execution_count": null,
      "id": "0e0f090b",
      "metadata": {
        "id": "0e0f090b"
      },
      "outputs": [],
      "source": [
        "keys = ['a', 'b', 'c']\n",
        "values = [1, 2, 3]\n",
        "dictionary = dict(zip(keys, values))\n",
        "print(dictionary) # {'a': 1, 'b': 2, 'c': 3}"
      ]
    },
    {
      "cell_type": "markdown",
      "id": "d4539ddc",
      "metadata": {
        "id": "d4539ddc"
      },
      "source": [
        "further studies on list/dict/tuple"
      ]
    },
    {
      "cell_type": "markdown",
      "id": "c869a3cf",
      "metadata": {
        "id": "c869a3cf"
      },
      "source": [
        "Questions:\n",
        "    \n",
        "8 queen"
      ]
    },
    {
      "cell_type": "code",
      "source": [
        "# 8 queens problem with 4*4 board naive approach\n",
        "\n",
        "board = [[0 for i in range(4)] for i in range(4)]\n",
        "print(board)"
      ],
      "metadata": {
        "id": "GOud3GZXx8cm"
      },
      "id": "GOud3GZXx8cm",
      "execution_count": null,
      "outputs": []
    },
    {
      "cell_type": "code",
      "execution_count": null,
      "id": "ad5aa12a",
      "metadata": {
        "colab": {
          "base_uri": "https://localhost:8080/"
        },
        "id": "ad5aa12a",
        "outputId": "6d19630f-36a7-4cc8-9078-4ebe191a98a2"
      },
      "outputs": [
        {
          "output_type": "stream",
          "name": "stdout",
          "text": [
            "[[0, 0, 0, 0], [0, 0, 0, 0], [0, 0, 0, 0], [0, 0, 0, 0]]\n",
            "[[0, 1, 0, 0], [0, 0, 0, 1], [1, 0, 0, 0], [0, 0, 1, 0]]\n"
          ]
        },
        {
          "output_type": "execute_result",
          "data": {
            "text/plain": [
              "True"
            ]
          },
          "metadata": {},
          "execution_count": 1
        }
      ],
      "source": [
        "def check(board):\n",
        "    for i in range(4):\n",
        "        for j in range(4):\n",
        "            if board[i][j] == 1:\n",
        "                for k in range(4):\n",
        "                    if board[i][k] == 1 and k != j:\n",
        "                        return False\n",
        "                    if board[k][j] == 1 and k != i:\n",
        "                        return False\n",
        "                for k in range(4):\n",
        "                    for l in range(4):\n",
        "                        if (k + l == i + j or k - l == i - j) and board[k][l] == 1 and (k != i and l != j):\n",
        "                            return False\n",
        "    return True\n",
        "def solve(board, row):\n",
        "    if row == 4:\n",
        "        if check(board):\n",
        "            print(board)\n",
        "            return True\n",
        "        return False\n",
        "    for i in range(4):\n",
        "        board[row][i] = 1\n",
        "        if solve(board, row + 1):\n",
        "            return True\n",
        "        board[row][i] = 0\n",
        "    return False\n",
        "solve(board, 0)\n",
        "    "
      ]
    },
    {
      "cell_type": "code",
      "source": [
        "# merge sort \n",
        "def mergeSort(l):\n",
        "    if len(l) > 1:  \n",
        "        c = len(l)//2  \n",
        "        left_l = l[:c]\n",
        "        right_l = l[c:]\n",
        "        mergeSort(left_l)\n",
        "        mergeSort(right_l)\n",
        "        \n",
        "        left_pointer = 0\n",
        "        right_pointer = 0\n",
        "        pointer = 0\n",
        "# merge \n",
        "        while pointer < len(l):\n",
        "            if (left_pointer < len(left_l) and right_pointer < len(right_l)):\n",
        "                if left_l[left_pointer] < right_l[right_pointer]:\n",
        "                    l[pointer] = left_l[left_pointer]\n",
        "                    left_pointer +=1\n",
        "                else:\n",
        "                    l[pointer] = right_l[right_pointer]\n",
        "                    right_pointer +=1\n",
        "            elif (left_pointer < len(left_l) ) :\n",
        "                l[pointer] = left_l[left_pointer]\n",
        "                left_pointer += 1\n",
        "            elif (right_pointer < len(right_l)) :\n",
        "                l[pointer] = right_l[right_pointer]\n",
        "                right_pointer += 1\n",
        "            pointer += 1\n",
        "l = [1,8,3,-1,5]\n",
        "mergeSort(l)\n",
        "print(l)"
      ],
      "metadata": {
        "colab": {
          "base_uri": "https://localhost:8080/"
        },
        "id": "2wXKHHaQymrK",
        "outputId": "0c34e085-48a9-4902-d39f-a3cd404811c9"
      },
      "id": "2wXKHHaQymrK",
      "execution_count": null,
      "outputs": [
        {
          "output_type": "stream",
          "name": "stdout",
          "text": [
            "[-1, 1, 3, 5, 8]\n"
          ]
        }
      ]
    }
  ],
  "metadata": {
    "kernelspec": {
      "display_name": "Python 3.10.6 64-bit",
      "language": "python",
      "name": "python3"
    },
    "language_info": {
      "codemirror_mode": {
        "name": "ipython",
        "version": 3
      },
      "file_extension": ".py",
      "mimetype": "text/x-python",
      "name": "python",
      "nbconvert_exporter": "python",
      "pygments_lexer": "ipython3",
      "version": "3.10.6"
    },
    "vscode": {
      "interpreter": {
        "hash": "916dbcbb3f70747c44a77c7bcd40155683ae19c65e1c03b4aa3499c5328201f1"
      }
    },
    "colab": {
      "provenance": [],
      "collapsed_sections": [
        "803842c4"
      ]
    }
  },
  "nbformat": 4,
  "nbformat_minor": 5
}